{
  "cells": [
    {
      "cell_type": "markdown",
      "metadata": {
        "id": "view-in-github",
        "colab_type": "text"
      },
      "source": [
        "<a href=\"https://colab.research.google.com/github/dcalibri/AIShader/blob/main/hw1.ipynb\" target=\"_parent\"><img src=\"https://colab.research.google.com/assets/colab-badge.svg\" alt=\"Open In Colab\"/></a>"
      ]
    },
    {
      "cell_type": "markdown",
      "source": [
        "#Homework 1\n"
      ],
      "metadata": {
        "id": "iankPy1gWDcy"
      }
    },
    {
      "cell_type": "markdown",
      "metadata": {
        "id": "93cl9JWr_5nm"
      },
      "source": [
        "## Question\n",
        "Implement a function, `homework()`, that takes the width, depth, and height of a box as arguments. The function should return True if the volume of the box is greater than or equal to 1000, and False if it is less than 1000. Units can be omitted.\n",
        "\n",
        "\n",
        "**Expected Output:**\n",
        "```python\n",
        "width = 10\n",
        "depth = 20\n",
        "height = 35\n",
        "print(homework(width, depth, height))\n",
        "True\n",
        "```\n",
        "\n",
        "**Submission Guidelines:**<br>\n",
        "When submitting your solution, only submit the entire `homework()` function. Submit by selecting this week's assignment in the Omnicampus homework section, pasting the function into the submission area, and then clicking [Submit Python Code].\n",
        "\n",
        "Please pay attention to the following points when submitting.\n",
        "- Erase the `!!WRITE ME!!` when submitting\n",
        "- The return value of the function should be type `bool`"
      ]
    },
    {
      "cell_type": "markdown",
      "source": [
        "## Deadline\n",
        "**10/08**/2025 (Wed) 11:00 GMT, 20:00 JST"
      ],
      "metadata": {
        "id": "SbzENAPPlZzB"
      }
    },
    {
      "cell_type": "markdown",
      "source": [
        "## 1. Solution"
      ],
      "metadata": {
        "id": "1_cCZzg5uOP4"
      }
    },
    {
      "cell_type": "code",
      "source": [
        "# Substitute numbers for width, depth, and height here (this code will not be submitted)\n",
        "width = 10\n",
        "depth = 20\n",
        "height = 35"
      ],
      "metadata": {
        "id": "59dGJO3lEaMF"
      },
      "execution_count": null,
      "outputs": []
    },
    {
      "cell_type": "code",
      "execution_count": null,
      "metadata": {
        "id": "thHL7HyXBXvS"
      },
      "outputs": [],
      "source": [
        "#　Fill in the WRITE ME\n",
        "# Don't forget to erase the \"!!WRITE ME!!\" before submitting!\n",
        "def homework(width, depth, height):\n",
        "  !!WRITE ME!!\n",
        "  return my_result"
      ]
    },
    {
      "cell_type": "markdown",
      "source": [
        "## 2. Checking the Outputs\n",
        "\n",
        "Let's check you get the expected outputs on several test cases.\n",
        "\n",
        "Use `print()` to see the returned value of `homework()`."
      ],
      "metadata": {
        "id": "yln4ceO7uYov"
      }
    },
    {
      "cell_type": "code",
      "source": [
        "# Test the behavior of the homework function　(this code will not be submitted)\n",
        "print(homework(10, 20, 35))"
      ],
      "metadata": {
        "id": "Nk2WvS3aE8QA"
      },
      "execution_count": null,
      "outputs": []
    },
    {
      "cell_type": "markdown",
      "source": [
        "Let's check with another test case."
      ],
      "metadata": {
        "id": "RXltFo-WuhlJ"
      }
    },
    {
      "cell_type": "code",
      "source": [
        "# Test the behavior of the homework function　(this code will not be submitted)\n",
        "print(homework(10, 10, 9))"
      ],
      "metadata": {
        "id": "cO5VE-peExXR"
      },
      "execution_count": null,
      "outputs": []
    },
    {
      "cell_type": "markdown",
      "source": [
        "Once you've finished checking, copy and paste your `homework()` function to Omnicampus and submit your solution. If you see a `1.0`, it means that the your answer was correct."
      ],
      "metadata": {
        "id": "N4rE3LrKu-Sp"
      }
    },
    {
      "cell_type": "markdown",
      "source": [
        "### Common Causes of Program Errors\n",
        "*   Writing import statements\n",
        "*   Writing code outside of the homework function\n",
        "*   Forgetting to include a return statement\n",
        "\n",
        "\n"
      ],
      "metadata": {
        "id": "Qapt4osKFCxW"
      }
    },
    {
      "cell_type": "code",
      "source": [
        "# Common mistakes (these will cause program errors)\n",
        "\n",
        "def homework(width, depth, height):\n",
        "  # Calculate the volume\n",
        "  volume = width * depth * height\n",
        "  # Check if the volume is greater than or equal to 1000\n",
        "  if volume >= 1000:\n",
        "    my_result = True\n",
        "  else:\n",
        "    my_result = False\n",
        "  return my_result"
      ],
      "metadata": {
        "id": "hj-zvO-OEA4Z",
        "colab": {
          "base_uri": "https://localhost:8080/",
          "height": 297
        },
        "outputId": "9f629691-94a2-4208-9c3a-5a4d084cd7e0"
      },
      "execution_count": 3,
      "outputs": [
        {
          "output_type": "error",
          "ename": "NameError",
          "evalue": "name 'my_result' is not defined",
          "traceback": [
            "\u001b[0;31m---------------------------------------------------------------------------\u001b[0m",
            "\u001b[0;31mNameError\u001b[0m                                 Traceback (most recent call last)",
            "\u001b[0;32m/tmp/ipython-input-2676408417.py\u001b[0m in \u001b[0;36m<cell line: 0>\u001b[0;34m()\u001b[0m\n\u001b[1;32m     10\u001b[0m   \u001b[0;32mreturn\u001b[0m \u001b[0mmy_result\u001b[0m\u001b[0;34m\u001b[0m\u001b[0;34m\u001b[0m\u001b[0m\n\u001b[1;32m     11\u001b[0m \u001b[0;34m\u001b[0m\u001b[0m\n\u001b[0;32m---> 12\u001b[0;31m \u001b[0mprint\u001b[0m\u001b[0;34m(\u001b[0m\u001b[0mhomework\u001b[0m\u001b[0;34m(\u001b[0m\u001b[0;36m10\u001b[0m\u001b[0;34m,\u001b[0m \u001b[0;36m0\u001b[0m\u001b[0;34m,\u001b[0m \u001b[0;36m30\u001b[0m\u001b[0;34m)\u001b[0m\u001b[0;34m)\u001b[0m \u001b[0;31m# <- Code is written outside the homework function\u001b[0m\u001b[0;34m\u001b[0m\u001b[0;34m\u001b[0m\u001b[0m\n\u001b[0m",
            "\u001b[0;32m/tmp/ipython-input-2676408417.py\u001b[0m in \u001b[0;36mhomework\u001b[0;34m(width, depth, height)\u001b[0m\n\u001b[1;32m      8\u001b[0m   \u001b[0mget_ipython\u001b[0m\u001b[0;34m(\u001b[0m\u001b[0;34m)\u001b[0m\u001b[0;34m.\u001b[0m\u001b[0mgetoutput\u001b[0m\u001b[0;34m(\u001b[0m\u001b[0;34m'WRITE ME!! # <- Students should only write their code in this area'\u001b[0m\u001b[0;34m)\u001b[0m\u001b[0;34m\u001b[0m\u001b[0;34m\u001b[0m\u001b[0m\n\u001b[1;32m      9\u001b[0m \u001b[0;34m\u001b[0m\u001b[0m\n\u001b[0;32m---> 10\u001b[0;31m   \u001b[0;32mreturn\u001b[0m \u001b[0mmy_result\u001b[0m\u001b[0;34m\u001b[0m\u001b[0;34m\u001b[0m\u001b[0m\n\u001b[0m\u001b[1;32m     11\u001b[0m \u001b[0;34m\u001b[0m\u001b[0m\n\u001b[1;32m     12\u001b[0m \u001b[0mprint\u001b[0m\u001b[0;34m(\u001b[0m\u001b[0mhomework\u001b[0m\u001b[0;34m(\u001b[0m\u001b[0;36m10\u001b[0m\u001b[0;34m,\u001b[0m \u001b[0;36m0\u001b[0m\u001b[0;34m,\u001b[0m \u001b[0;36m30\u001b[0m\u001b[0;34m)\u001b[0m\u001b[0;34m)\u001b[0m \u001b[0;31m# <- Code is written outside the homework function\u001b[0m\u001b[0;34m\u001b[0m\u001b[0;34m\u001b[0m\u001b[0m\n",
            "\u001b[0;31mNameError\u001b[0m: name 'my_result' is not defined"
          ]
        }
      ]
    }
  ],
  "metadata": {
    "colab": {
      "provenance": [],
      "include_colab_link": true
    },
    "kernelspec": {
      "display_name": "Python 3",
      "name": "python3"
    },
    "language_info": {
      "codemirror_mode": {
        "name": "ipython",
        "version": 3
      },
      "file_extension": ".py",
      "mimetype": "text/x-python",
      "name": "python",
      "nbconvert_exporter": "python",
      "pygments_lexer": "ipython3",
      "version": "3.8.5"
    }
  },
  "nbformat": 4,
  "nbformat_minor": 0
}